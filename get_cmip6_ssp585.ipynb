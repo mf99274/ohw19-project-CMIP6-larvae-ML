{
 "cells": [
  {
   "cell_type": "code",
   "execution_count": null,
   "metadata": {},
   "outputs": [],
   "source": [
    "#%conda install nc-time-axis\n",
    "#%conda install bottleneck\n",
    "#%conda install netcdftime"
   ]
  },
  {
   "cell_type": "code",
   "execution_count": 1,
   "metadata": {},
   "outputs": [],
   "source": [
    "#!/usr/bin/env python\n",
    "# coding: utf-8\n",
    "import netCDF4 as nc \n",
    "import numpy as np\n",
    "import pandas as pd\n",
    "import xarray as xr\n",
    "from glob import glob\n",
    "import matplotlib.pyplot as plt\n",
    "import nc_time_axis\n",
    "import cftime\n",
    "from dask.diagnostics import ProgressBar\n",
    "import cartopy.crs as ccrs\n",
    "from cartopy.mpl.gridliner import LONGITUDE_FORMATTER, LATITUDE_FORMATTER\n",
    "import warnings\n",
    "warnings.simplefilter('ignore')\n",
    "import datetime\n",
    "import csv\n",
    "import os \n",
    "import bottleneck as bn\n",
    "import sys\n",
    "import intake"
   ]
  },
  {
   "cell_type": "code",
   "execution_count": 2,
   "metadata": {},
   "outputs": [],
   "source": [
    "def is_jj(month):\n",
    "    return (month >= 6) & (month <= 7)\n",
    "\n",
    "def bn_mov_mean(data,width):\n",
    "    return bn.move_mean(a=data,window=width,min_count = 1)"
   ]
  },
  {
   "cell_type": "code",
   "execution_count": 3,
   "metadata": {},
   "outputs": [],
   "source": [
    "BASE = \"http://esgf-data.ucar.edu/thredds/dodsC/esg_dataroot/CMIP6/\"\n",
    "EXP = \"ScenarioMIP/NCAR/CESM2/ssp585/r1i1p1f1/Omon/\"\n",
    "VAR = [\"thetao\" , \"so\" , \"zos\"]\n",
    "GRID = \"/gr/v20190730/\"\n",
    "#SUFFIX = [\"_Omon_CESM2_ssp585_r1i1p1f1_gr_201501-206412.nc\",\\\n",
    "#           \"_Omon_CESM2_ssp585_r1i1p1f1_gr_206501-210012.nc\"]\n",
    "#for j in SUFFIX:\n",
    "\n",
    "SUFFIX1 = \"_Omon_CESM2_ssp585_r1i1p1f1_gr_201501-206412.nc\"\n",
    "SUFFIX2 = \"_Omon_CESM2_ssp585_r1i1p1f1_gr_206501-210012.nc\"\n",
    "          \n",
    "ds_surf1 = xr.Dataset()\n",
    "for i in VAR:    \n",
    "    url = BASE + EXP + i + GRID + i + SUFFIX1\n",
    "    ds = xr.open_dataset(url)\n",
    "    lat = ds['lat']\n",
    "    lon = ds['lon']\n",
    "    time = ds['time']\n",
    "    \n",
    "    try:\n",
    "        surf = ds[i].sel(lev = 0, lat=slice(26,28), lon=slice(267,274))\n",
    "        surf = surf.sel(time=is_jj(surf['time.month'])).mean(dim = ('lon','lat')).drop('lev')          \n",
    "        surf.name = ['surf_' + i]\n",
    "        ds_surf1['surf_' + i] = surf\n",
    "    except:\n",
    "        surf = ds[i].sel(lat=slice(26,28), lon=slice(267,274))\n",
    "        surf = surf.sel(time=is_jj(surf['time.month'])).mean(dim = ('lon','lat'))\n",
    "        surf.name = ['surf_' + i]\n",
    "        ds_surf1['surf_' + i] = surf\n",
    "\n",
    "ds_surf2 = xr.Dataset()\n",
    "for i in VAR:    \n",
    "    url = BASE + EXP + i + GRID + i + SUFFIX2\n",
    "    ds = xr.open_dataset(url)\n",
    "    lat = ds['lat']\n",
    "    lon = ds['lon']\n",
    "    time = ds['time']\n",
    "    \n",
    "    try:\n",
    "        surf = ds[i].sel(lev = 0, lat=slice(26,28), lon=slice(267,274))\n",
    "        surf = surf.sel(time=is_jj(surf['time.month'])).mean(dim = ('lon','lat')).drop('lev')          \n",
    "        surf.name = ['surf_' + i]\n",
    "        ds_surf2['surf_' + i] = surf\n",
    "    except:\n",
    "        surf = ds[i].sel(lat=slice(26,28), lon=slice(267,274))\n",
    "        surf = surf.sel(time=is_jj(surf['time.month'])).mean(dim = ('lon','lat'))\n",
    "        surf.name = ['surf_' + i]\n",
    "        ds_surf2['surf_' + i] = surf\n",
    "\n"
   ]
  },
  {
   "cell_type": "code",
   "execution_count": 9,
   "metadata": {},
   "outputs": [],
   "source": [
    "ds_surf = xr.auto_combine([ds_surf1, ds_surf2])"
   ]
  },
  {
   "cell_type": "code",
   "execution_count": 10,
   "metadata": {},
   "outputs": [
    {
     "data": {
      "text/plain": [
       "<xarray.Dataset>\n",
       "Dimensions:      (time: 172)\n",
       "Coordinates:\n",
       "  * time         (time) object 2015-06-15 00:00:00 ... 2100-07-15 12:00:00\n",
       "Data variables:\n",
       "    surf_thetao  (time) float32 28.837887 30.826143 ... 32.18844 33.617107\n",
       "    surf_so      (time) float32 36.4151 36.327785 ... 38.279163 38.324615\n",
       "    surf_zos     (time) float32 -0.24073197 -0.1882354 ... -0.14569959"
      ]
     },
     "execution_count": 10,
     "metadata": {},
     "output_type": "execute_result"
    }
   ],
   "source": [
    "ds_surf"
   ]
  },
  {
   "cell_type": "code",
   "execution_count": null,
   "metadata": {},
   "outputs": [],
   "source": []
  }
 ],
 "metadata": {
  "kernelspec": {
   "display_name": "Python 3",
   "language": "python",
   "name": "python3"
  },
  "language_info": {
   "codemirror_mode": {
    "name": "ipython",
    "version": 3
   },
   "file_extension": ".py",
   "mimetype": "text/x-python",
   "name": "python",
   "nbconvert_exporter": "python",
   "pygments_lexer": "ipython3",
   "version": "3.7.3"
  }
 },
 "nbformat": 4,
 "nbformat_minor": 4
}
