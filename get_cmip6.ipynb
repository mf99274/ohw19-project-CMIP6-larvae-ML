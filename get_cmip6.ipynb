{
 "cells": [
  {
   "cell_type": "code",
   "execution_count": 1,
   "metadata": {},
   "outputs": [],
   "source": [
    "#!/usr/bin/env python\n",
    "# coding: utf-8\n",
    "import numpy as np\n",
    "import pandas as pd\n",
    "import xarray as xr\n",
    "from glob import glob\n",
    "import matplotlib.pyplot as plt\n",
    "#import nc_time_axis\n",
    "import cftime\n",
    "from dask.diagnostics import ProgressBar\n",
    "import cartopy.crs as ccrs\n",
    "from cartopy.mpl.gridliner import LONGITUDE_FORMATTER, LATITUDE_FORMATTER\n",
    "import warnings\n",
    "warnings.simplefilter('ignore')\n",
    "import datetime\n",
    "import csv\n",
    "import os \n",
    "#import bottleneck as bn\n",
    "import sys\n",
    "import intake"
   ]
  },
  {
   "cell_type": "code",
   "execution_count": 2,
   "metadata": {},
   "outputs": [
    {
     "data": {
      "text/plain": [
       "array([22.932632, 22.266443, 22.161678, 23.01295 , 25.606287, 28.025864,\n",
       "       29.288603, 30.125427, 29.882883, 28.593824, 26.571226, 24.52091 ,\n",
       "       23.204672, 23.68495 , 24.269705, 25.579107, 27.1431  , 28.617672,\n",
       "       29.9668  , 30.366882, 30.621029, 29.511248, 27.547468, 26.360691,\n",
       "       25.384504, 24.471655, 24.200594, 25.053469, 26.626175, 28.16772 ,\n",
       "       29.599962, 30.161839, 30.427212, 29.158758, 27.294374, 25.400097,\n",
       "       23.620268, 22.681551, 23.226564, 24.778248, 26.224316, 28.511133,\n",
       "       30.042067, 30.821436, 30.288927, 28.982   , 27.568516],\n",
       "      dtype=float32)"
      ]
     },
     "execution_count": 2,
     "metadata": {},
     "output_type": "execute_result"
    }
   ],
   "source": [
    "BASE = \"http://esgf-data.ucar.edu/thredds/dodsC/esg_dataroot/CMIP6/\"\n",
    "EXP = \"CMIP/NCAR/CESM2/historical/r1i1p1f1/Omon/\"#,\"ScenarioMIP/NCAR/CESM2/ssp585/r1i1p1f1/Omon/\"]\n",
    "VAR = [\"thetao\",\"so\"]\n",
    "GRID = \"/gr/\"\n",
    "thetao_hist = 'v20190308/thetao_Omon_CESM2_historical_r1i1p1f1_gr_185001-201412.nc'\n",
    "so_hist = 'v20190308/so_Omon_CESM2_historical_r1i1p1f1_gr_185001-201412.nc'\n",
    "\n",
    "# thetao_ssp585a = 'v20190730/thetao_Omon_CESM2_ssp585_r1i1p1f1_gr_201501-206412.nc'\n",
    "# thetao_ssp585b = 'v20190730/thetao_Omon_CESM2_ssp585_r1i1p1f1_gr_206501-210012.nc'\n",
    "# so_ssp585a = 'v20190730/so_Omon_CESM2_ssp585_r1i1p1f1_gr_201501-206412.nc'\n",
    "# so_ssp585b = 'v20190730/so_Omon_CESM2_ssp585_r1i1p1f1_gr_206501-210012.nc'\n",
    "\n",
    "for i in VAR\n",
    "    url = BASE + EXP + VAR(i) + GRID + thetao_hist\n",
    "    ds = xr.open_dataset(url)\n",
    "\n",
    "\n",
    "    sst = ds['thetao'].sel(lev = 0, lat=slice(26,28), lon=slice(267,274)).loc['2007-01-01':'2010-12-01']\n",
    "    lat = sst['lat']\n",
    "    lon = sst['lon']\n",
    "    time = sst['time']\n",
    "\n",
    "    sst_ts = sst.mean(dim = ('lon','lat')).drop('lev')\n",
    "\n",
    "    sst_ts = np.array(sst_ts)\n",
    "    sst_ts"
   ]
  },
  {
   "cell_type": "code",
   "execution_count": 7,
   "metadata": {},
   "outputs": [
    {
     "data": {
      "image/png": "[encoded data removed]",
      "text/plain": [
       "<Figure size 432x288 with 1 Axes>"
      ]
     },
     "metadata": {
      "needs_background": "light"
     },
     "output_type": "display_data"
    }
   ],
   "source": [
    "#sst.isel(time = range(200,500)).plot();\n",
    "#sst_ts.plot()\n",
    "fig = plt.figure()\n",
    "ax = plt.axes()\n",
    "#x = np.array(time)\n",
    "ax.plot(sst_ts);"
   ]
  },
  {
   "cell_type": "code",
   "execution_count": 33,
   "metadata": {},
   "outputs": [
    {
     "data": {
      "text/plain": [
       "OrderedDict()"
      ]
     },
     "execution_count": 33,
     "metadata": {},
     "output_type": "execute_result"
    }
   ],
   "source": [
    "#sst_ts.attrs"
   ]
  },
  {
   "cell_type": "code",
   "execution_count": null,
   "metadata": {},
   "outputs": [],
   "source": []
  }
 ],
 "metadata": {
  "kernelspec": {
   "display_name": "Python 3",
   "language": "python",
   "name": "python3"
  },
  "language_info": {
   "codemirror_mode": {
    "name": "ipython",
    "version": 3
   },
   "file_extension": ".py",
   "mimetype": "text/x-python",
   "name": "python",
   "nbconvert_exporter": "python",
   "pygments_lexer": "ipython3",
   "version": "3.7.3"
  }
 },
 "nbformat": 4,
 "nbformat_minor": 4
}
